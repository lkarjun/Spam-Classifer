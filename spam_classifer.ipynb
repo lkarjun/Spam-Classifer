{
 "metadata": {
  "language_info": {
   "codemirror_mode": {
    "name": "ipython",
    "version": 3
   },
   "file_extension": ".py",
   "mimetype": "text/x-python",
   "name": "python",
   "nbconvert_exporter": "python",
   "pygments_lexer": "ipython3",
   "version": "3.8.5-final"
  },
  "orig_nbformat": 2,
  "kernelspec": {
   "name": "python3",
   "display_name": "Python 3",
   "language": "python"
  }
 },
 "nbformat": 4,
 "nbformat_minor": 2,
 "cells": [
  {
   "source": [
    "# Spam classifer with Natural Language processing and Naive Bayes"
   ],
   "cell_type": "markdown",
   "metadata": {}
  },
  {
   "source": [
    "## Libaries importing"
   ],
   "cell_type": "markdown",
   "metadata": {}
  },
  {
   "cell_type": "code",
   "execution_count": 63,
   "metadata": {},
   "outputs": [],
   "source": [
    "import pandas as pd\n",
    "import numpy as np\n",
    "from sklearn.naive_bayes import MultinomialNB\n",
    "from sklearn.metrics import confusion_matrix, accuracy_score\n",
    "import matplotlib.pyplot as plt\n",
    "\n",
    "from typing import Dict, List\n",
    "from io import BytesIO\n",
    "import requests\n",
    "import tarfile\n",
    "import glob\n",
    "import re"
   ]
  },
  {
   "source": [
    "## Importing datasets"
   ],
   "cell_type": "markdown",
   "metadata": {}
  },
  {
   "cell_type": "code",
   "execution_count": 4,
   "metadata": {},
   "outputs": [
    {
     "output_type": "execute_result",
     "data": {
      "text/plain": [
       "     labels                                           messages\n",
       "5231    ham  I realise you are a busy guy and i'm trying no...\n",
       "2      spam  Free entry in 2 a wkly comp to win FA Cup fina...\n",
       "4359   spam  Our dating service has been asked 2 contact U ..."
      ],
      "text/html": "<div>\n<style scoped>\n    .dataframe tbody tr th:only-of-type {\n        vertical-align: middle;\n    }\n\n    .dataframe tbody tr th {\n        vertical-align: top;\n    }\n\n    .dataframe thead th {\n        text-align: right;\n    }\n</style>\n<table border=\"1\" class=\"dataframe\">\n  <thead>\n    <tr style=\"text-align: right;\">\n      <th></th>\n      <th>labels</th>\n      <th>messages</th>\n    </tr>\n  </thead>\n  <tbody>\n    <tr>\n      <th>5231</th>\n      <td>ham</td>\n      <td>I realise you are a busy guy and i'm trying no...</td>\n    </tr>\n    <tr>\n      <th>2</th>\n      <td>spam</td>\n      <td>Free entry in 2 a wkly comp to win FA Cup fina...</td>\n    </tr>\n    <tr>\n      <th>4359</th>\n      <td>spam</td>\n      <td>Our dating service has been asked 2 contact U ...</td>\n    </tr>\n  </tbody>\n</table>\n</div>"
     },
     "metadata": {},
     "execution_count": 4
    }
   ],
   "source": [
    "spam_ham_sms = pd.read_csv(\"datasets/sms(ham-spam).csv\").drop(\"Unnamed: 0\", axis=1)\n",
    "spam_ham_sms.sample(3)"
   ]
  },
  {
   "cell_type": "code",
   "execution_count": 24,
   "metadata": {},
   "outputs": [],
   "source": [
    "def extract_spam_data():\n",
    "    Base_url = \"https://spamassassin.apache.org/old/publiccorpus\"\n",
    "\n",
    "    files = [\"20021010_easy_ham.tar.bz2\",\n",
    "             \"20021010_hard_ham.tar.bz2\",            \n",
    "             \"20021010_spam.tar.bz2\"]\n",
    "\n",
    "    Output_dir = \"datasets/emailSpam\"\n",
    "\n",
    "    for filename in files:\n",
    "        content = requests.get(f\"{Base_url}/{filename}\").content\n",
    "        fin = BytesIO(content)\n",
    "\n",
    "        with tarfile.open(fileobj=fin, mode='r:bz2') as tf:\n",
    "            tf.extractall(Output_dir)\n",
    "\n",
    "    return files"
   ]
  },
  {
   "cell_type": "code",
   "execution_count": 25,
   "metadata": {},
   "outputs": [],
   "source": [
    "files = extract_spam_data()"
   ]
  },
  {
   "cell_type": "code",
   "execution_count": 76,
   "metadata": {
    "tags": []
   },
   "outputs": [],
   "source": [
    "path = \"datasets\\emailSpam\\*\\*\"\n",
    "\n",
    "full_data:List[Dict] = []\n",
    "\n",
    "for filename in glob.glob(path):\n",
    "    spamOrham = \"ham\" if \"ham\" in filename else \"spam\"\n",
    "    with open(filename, errors='ignore') as files:\n",
    "        for line in files:\n",
    "            if line.startswith(\"Subject:\"):\n",
    "                subject = line.lstrip(\"Subject: \")\n",
    "                data = {\"labels\":spamOrham, \"messages\": subject}\n",
    "                full_data.append(data)"
   ]
  },
  {
   "cell_type": "code",
   "execution_count": 77,
   "metadata": {},
   "outputs": [
    {
     "output_type": "execute_result",
     "data": {
      "text/plain": [
       "     labels                                      messages\n",
       "1914    ham                      [Spambayes] test sets?\\n\n",
       "1232    ham      Re: problems with 'apt-get -f install'\\n\n",
       "966     ham  dumb question: X client behind a firewall?\\n"
      ],
      "text/html": "<div>\n<style scoped>\n    .dataframe tbody tr th:only-of-type {\n        vertical-align: middle;\n    }\n\n    .dataframe tbody tr th {\n        vertical-align: top;\n    }\n\n    .dataframe thead th {\n        text-align: right;\n    }\n</style>\n<table border=\"1\" class=\"dataframe\">\n  <thead>\n    <tr style=\"text-align: right;\">\n      <th></th>\n      <th>labels</th>\n      <th>messages</th>\n    </tr>\n  </thead>\n  <tbody>\n    <tr>\n      <th>1914</th>\n      <td>ham</td>\n      <td>[Spambayes] test sets?\\n</td>\n    </tr>\n    <tr>\n      <th>1232</th>\n      <td>ham</td>\n      <td>Re: problems with 'apt-get -f install'\\n</td>\n    </tr>\n    <tr>\n      <th>966</th>\n      <td>ham</td>\n      <td>dumb question: X client behind a firewall?\\n</td>\n    </tr>\n  </tbody>\n</table>\n</div>"
     },
     "metadata": {},
     "execution_count": 77
    }
   ],
   "source": [
    "spam_ham_email = pd.DataFrame(data = full_data, columns=['labels', 'messages'])\n",
    "spam_ham_email.sample(3)"
   ]
  },
  {
   "cell_type": "code",
   "execution_count": null,
   "metadata": {},
   "outputs": [],
   "source": []
  }
 ]
}