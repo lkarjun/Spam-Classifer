{
  "nbformat": 4,
  "nbformat_minor": 0,
  "metadata": {
    "language_info": {
      "codemirror_mode": {
        "name": "ipython",
        "version": 3
      },
      "file_extension": ".py",
      "mimetype": "text/x-python",
      "name": "python",
      "nbconvert_exporter": "python",
      "pygments_lexer": "ipython3",
      "version": "3.8.5-final"
    },
    "orig_nbformat": 2,
    "kernelspec": {
      "name": "python3",
      "display_name": "Python 3",
      "language": "python"
    },
    "colab": {
      "name": "spam_classifer.ipynb",
      "provenance": [],
      "include_colab_link": true
    }
  },
  "cells": [
    {
      "cell_type": "markdown",
      "metadata": {
        "id": "view-in-github",
        "colab_type": "text"
      },
      "source": [
        "<a href=\"https://colab.research.google.com/github/lkarjun/Spam-Classifer/blob/main/spam_classifer.ipynb\" target=\"_parent\"><img src=\"https://colab.research.google.com/assets/colab-badge.svg\" alt=\"Open In Colab\"/></a>"
      ]
    },
    {
      "cell_type": "markdown",
      "metadata": {
        "id": "lgL1YJMkXpse"
      },
      "source": [
        "# Spam classifer with Natural Language processing and Naive Bayes"
      ]
    },
    {
      "cell_type": "markdown",
      "metadata": {
        "id": "r3vX4pGWXps0"
      },
      "source": [
        "## Libaries importing"
      ]
    },
    {
      "cell_type": "code",
      "metadata": {
        "id": "fjxlWD3PXps2"
      },
      "source": [
        "import pandas as pd\n",
        "import numpy as np\n",
        "from sklearn.naive_bayes import MultinomialNB\n",
        "from sklearn.metrics import confusion_matrix, accuracy_score\n",
        "from sklearn.feature_extraction.text import CountVectorizer, TfidfVectorizer\n",
        "from sklearn.model_selection import train_test_split\n",
        "from sklearn.metrics import plot_confusion_matrix, average_precision_score, precision_recall_curve, plot_precision_recall_curve, recall_score\n",
        "import matplotlib.pyplot as plt\n",
        "\n",
        "from nltk.stem import WordNetLemmatizer\n",
        "\n",
        "from nltk.corpus import stopwords\n",
        "\n",
        "from typing import Dict, List\n",
        "from io import BytesIO\n",
        "import requests\n",
        "import tarfile\n",
        "import glob\n",
        "import re"
      ],
      "execution_count": 1,
      "outputs": []
    },
    {
      "cell_type": "markdown",
      "metadata": {
        "id": "V4GBT0FoXps3"
      },
      "source": [
        "## Importing datasets"
      ]
    },
    {
      "cell_type": "code",
      "metadata": {
        "id": "YpGkdkAnXps4",
        "outputId": "a97376a4-5b95-470f-ce4b-0abc41661c41",
        "colab": {
          "base_uri": "https://localhost:8080/",
          "height": 135
        }
      },
      "source": [
        "spam_ham_sms = pd.read_csv(\"datasets/sms(ham-spam).csv\").drop(\"Unnamed: 0\", axis=1)\n",
        "spam_ham_sms.sample(3)"
      ],
      "execution_count": 2,
      "outputs": [
        {
          "output_type": "execute_result",
          "data": {
            "text/html": [
              "<div>\n",
              "<style scoped>\n",
              "    .dataframe tbody tr th:only-of-type {\n",
              "        vertical-align: middle;\n",
              "    }\n",
              "\n",
              "    .dataframe tbody tr th {\n",
              "        vertical-align: top;\n",
              "    }\n",
              "\n",
              "    .dataframe thead th {\n",
              "        text-align: right;\n",
              "    }\n",
              "</style>\n",
              "<table border=\"1\" class=\"dataframe\">\n",
              "  <thead>\n",
              "    <tr style=\"text-align: right;\">\n",
              "      <th></th>\n",
              "      <th>labels</th>\n",
              "      <th>messages</th>\n",
              "    </tr>\n",
              "  </thead>\n",
              "  <tbody>\n",
              "    <tr>\n",
              "      <th>3351</th>\n",
              "      <td>ham</td>\n",
              "      <td>Sorry i cant take your call right now. It so h...</td>\n",
              "    </tr>\n",
              "    <tr>\n",
              "      <th>4073</th>\n",
              "      <td>spam</td>\n",
              "      <td>Loans for any purpose even if you have Bad Cre...</td>\n",
              "    </tr>\n",
              "    <tr>\n",
              "      <th>2102</th>\n",
              "      <td>ham</td>\n",
              "      <td>I thk 530 lor. But dunno can get tickets a not...</td>\n",
              "    </tr>\n",
              "  </tbody>\n",
              "</table>\n",
              "</div>"
            ],
            "text/plain": [
              "     labels                                           messages\n",
              "3351    ham  Sorry i cant take your call right now. It so h...\n",
              "4073   spam  Loans for any purpose even if you have Bad Cre...\n",
              "2102    ham  I thk 530 lor. But dunno can get tickets a not..."
            ]
          },
          "metadata": {
            "tags": []
          },
          "execution_count": 2
        }
      ]
    },
    {
      "cell_type": "markdown",
      "metadata": {
        "id": "zlS2ZJUVXps9"
      },
      "source": [
        "### Visualising data -> Balance or not"
      ]
    },
    {
      "cell_type": "code",
      "metadata": {
        "id": "YeTa1ucpXps9",
        "outputId": "731db334-6bd0-4a17-949f-d9a4cf725f3f",
        "colab": {
          "base_uri": "https://localhost:8080/",
          "height": 298
        }
      },
      "source": [
        "pd.value_counts(spam_ham_sms['labels']).plot.bar()\n",
        "plt.ylabel(\"Value count\", weight='bold')\n",
        "plt.xlabel(\"Ham and Spam\", weight='bold')\n",
        "plt.show()"
      ],
      "execution_count": 3,
      "outputs": [
        {
          "output_type": "display_data",
          "data": {
            "image/png": "[encoded data removed]",
            "text/plain": [
              "<Figure size 432x288 with 1 Axes>"
            ]
          },
          "metadata": {
            "tags": [],
            "needs_background": "light"
          }
        }
      ]
    },
    {
      "cell_type": "markdown",
      "metadata": {
        "id": "E0x-2uClXps-"
      },
      "source": [
        "## Using nltk for Lemmatization and Stemming"
      ]
    },
    {
      "cell_type": "code",
      "metadata": {
        "id": "mIr1wju4Xps-"
      },
      "source": [
        "wordnet = WordNetLemmatizer()"
      ],
      "execution_count": 4,
      "outputs": []
    },
    {
      "cell_type": "code",
      "metadata": {
        "tags": [],
        "id": "oVi_xzLyXps_"
      },
      "source": [
        "for i in range(len(spam_ham_sms['messages'])):\n",
        "    capture_words = re.sub('[^a-zA-Z]', ' ', spam_ham_sms['messages'].iloc[i])\n",
        "    lowering_spliting = capture_words.lower().split()\n",
        "    remove_word = [wordnet.lemmatize(word) for word in lowering_spliting\n",
        "             if not word in set(stopwords.words('english'))]\n",
        "\n",
        "    finalising = ' '.join(remove_word)\n",
        "    spam_ham_sms['messages'].iloc[i] = finalising"
      ],
      "execution_count": 10,
      "outputs": []
    },
    {
      "cell_type": "code",
      "metadata": {
        "id": "gJlue570XptA",
        "outputId": "9450f0dd-6766-4d55-9ace-215322996bd0"
      },
      "source": [
        "data = pd.get_dummies(spam_ham_sms, columns=['labels'], drop_first=True)\n",
        "data.head(3)"
      ],
      "execution_count": null,
      "outputs": [
        {
          "output_type": "execute_result",
          "data": {
            "text/plain": [
              "                                            messages  labels_spam\n",
              "0  go jurong point crazy available bugis n great ...            0\n",
              "1                            ok lar joking wif u oni            0\n",
              "2  free entry wkly comp win fa cup final tkts st ...            1"
            ],
            "text/html": [
              "<div>\n",
              "<style scoped>\n",
              "    .dataframe tbody tr th:only-of-type {\n",
              "        vertical-align: middle;\n",
              "    }\n",
              "\n",
              "    .dataframe tbody tr th {\n",
              "        vertical-align: top;\n",
              "    }\n",
              "\n",
              "    .dataframe thead th {\n",
              "        text-align: right;\n",
              "    }\n",
              "</style>\n",
              "<table border=\"1\" class=\"dataframe\">\n",
              "  <thead>\n",
              "    <tr style=\"text-align: right;\">\n",
              "      <th></th>\n",
              "      <th>messages</th>\n",
              "      <th>labels_spam</th>\n",
              "    </tr>\n",
              "  </thead>\n",
              "  <tbody>\n",
              "    <tr>\n",
              "      <th>0</th>\n",
              "      <td>go jurong point crazy available bugis n great ...</td>\n",
              "      <td>0</td>\n",
              "    </tr>\n",
              "    <tr>\n",
              "      <th>1</th>\n",
              "      <td>ok lar joking wif u oni</td>\n",
              "      <td>0</td>\n",
              "    </tr>\n",
              "    <tr>\n",
              "      <th>2</th>\n",
              "      <td>free entry wkly comp win fa cup final tkts st ...</td>\n",
              "      <td>1</td>\n",
              "    </tr>\n",
              "  </tbody>\n",
              "</table>\n",
              "</div>"
            ]
          },
          "metadata": {
            "tags": []
          },
          "execution_count": 10
        }
      ]
    },
    {
      "cell_type": "markdown",
      "metadata": {
        "id": "fdmKZatEXptB"
      },
      "source": [
        "### Using Countvectorizer"
      ]
    },
    {
      "cell_type": "code",
      "metadata": {
        "id": "CmqjneT6XptC"
      },
      "source": [
        "count_vectorizer = CountVectorizer()\n",
        "x = count_vectorizer.fit_transform(spam_ham_sms['messages']).toarray()"
      ],
      "execution_count": 12,
      "outputs": []
    },
    {
      "cell_type": "code",
      "metadata": {
        "id": "fqQxkuGIXptC"
      },
      "source": [
        "x_train, x_test, y_train, y_test = train_test_split(x, spam_ham_sms['labels'],test_size=0.2, random_state=0)"
      ],
      "execution_count": 14,
      "outputs": []
    },
    {
      "cell_type": "code",
      "metadata": {
        "id": "fDcWdSS6XptD",
        "outputId": "6a53b409-53ed-4a17-b4ef-8c732ea7838b",
        "colab": {
          "base_uri": "https://localhost:8080/"
        }
      },
      "source": [
        "naive_bayes_classifer = MultinomialNB()\n",
        "naive_bayes_classifer.fit(x_train, y_train)"
      ],
      "execution_count": 16,
      "outputs": [
        {
          "output_type": "execute_result",
          "data": {
            "text/plain": [
              "MultinomialNB(alpha=1.0, class_prior=None, fit_prior=True)"
            ]
          },
          "metadata": {
            "tags": []
          },
          "execution_count": 16
        }
      ]
    },
    {
      "cell_type": "code",
      "metadata": {
        "id": "xkwCW0cQXptD"
      },
      "source": [
        "y_pred = naive_bayes_classifer.predict(x_test)"
      ],
      "execution_count": 17,
      "outputs": []
    },
    {
      "cell_type": "code",
      "metadata": {
        "id": "2DvPdrH4XptE",
        "outputId": "dd51d06a-08df-49f2-b5e5-f3df2633d0e9",
        "colab": {
          "base_uri": "https://localhost:8080/",
          "height": 297
        }
      },
      "source": [
        "plot_confusion_matrix(naive_bayes_classifer, x_test, y_test)\n",
        "print(accuracy_score(y_test, y_pred))"
      ],
      "execution_count": 18,
      "outputs": [
        {
          "output_type": "stream",
          "text": [
            "0.9766816143497757\n"
          ],
          "name": "stdout"
        },
        {
          "output_type": "display_data",
          "data": {
            "image/png": "[encoded data removed]",
            "text/plain": [
              "<Figure size 432x288 with 2 Axes>"
            ]
          },
          "metadata": {
            "tags": [],
            "needs_background": "light"
          }
        }
      ]
    },
    {
      "cell_type": "markdown",
      "metadata": {
        "id": "pQLKsN2GXptE"
      },
      "source": [
        "### Using Count Vectorizer with para=max_feature"
      ]
    },
    {
      "cell_type": "code",
      "metadata": {
        "id": "_d7aGhkBXptF"
      },
      "source": [
        "count_vectorizer2 = CountVectorizer(max_features = 3000)"
      ],
      "execution_count": 67,
      "outputs": []
    },
    {
      "cell_type": "code",
      "metadata": {
        "id": "B9Lnj1P4XptF"
      },
      "source": [
        "x2 = count_vectorizer2.fit_transform(spam_ham_sms['messages']).toarray()"
      ],
      "execution_count": 68,
      "outputs": []
    },
    {
      "cell_type": "code",
      "metadata": {
        "id": "HCqjEFQkXptG"
      },
      "source": [
        "x_train2, x_test_2, y_train2, y_test_2 = train_test_split(x2, spam_ham_sms['labels'], test_size=0.2, random_state=0)"
      ],
      "execution_count": 69,
      "outputs": []
    },
    {
      "cell_type": "code",
      "metadata": {
        "id": "uTD5httNXptG"
      },
      "source": [
        "naive_bayes_classifer_2 = MultinomialNB()\n",
        "naive_bayes_classifer_2.fit(x_train2, y_train2)\n",
        "y_pred2 = naive_bayes_classifer_2.predict(x_test_2)"
      ],
      "execution_count": 70,
      "outputs": []
    },
    {
      "cell_type": "code",
      "metadata": {
        "id": "JbNDj8PFXptH",
        "outputId": "4c4b482e-a09c-49a0-a0b2-07b5af569709",
        "colab": {
          "base_uri": "https://localhost:8080/",
          "height": 297
        }
      },
      "source": [
        "plot_confusion_matrix(naive_bayes_classifer_2, x_test_2, y_test_2)"
      ],
      "execution_count": 71,
      "outputs": [
        {
          "output_type": "execute_result",
          "data": {
            "text/plain": [
              "<sklearn.metrics._plot.confusion_matrix.ConfusionMatrixDisplay at 0x7f3900408f98>"
            ]
          },
          "metadata": {
            "tags": []
          },
          "execution_count": 71
        },
        {
          "output_type": "display_data",
          "data": {
            "image/png": "[encoded data removed]",
            "text/plain": [
              "<Figure size 432x288 with 2 Axes>"
            ]
          },
          "metadata": {
            "tags": [],
            "needs_background": "light"
          }
        }
      ]
    },
    {
      "cell_type": "code",
      "metadata": {
        "id": "V2K8Lx83XptH",
        "outputId": "80773a54-64f2-4e74-b660-677e6dc8fad3",
        "colab": {
          "base_uri": "https://localhost:8080/"
        }
      },
      "source": [
        "accuracy_score(y_test_2, y_pred2)"
      ],
      "execution_count": 61,
      "outputs": [
        {
          "output_type": "execute_result",
          "data": {
            "text/plain": [
              "0.9838565022421525"
            ]
          },
          "metadata": {
            "tags": []
          },
          "execution_count": 61
        }
      ]
    },
    {
      "cell_type": "markdown",
      "metadata": {
        "id": "h1eRq9IlXptI"
      },
      "source": [
        "### Using Tfidf"
      ]
    },
    {
      "cell_type": "code",
      "metadata": {
        "id": "75hO0K2SXptI"
      },
      "source": [
        "cv = TfidfVectorizer()\r\n",
        "x3 = cv.fit_transform(spam_ham_sms['messages']).toarray()"
      ],
      "execution_count": 30,
      "outputs": []
    },
    {
      "cell_type": "code",
      "metadata": {
        "id": "FYj0MzhmXptJ"
      },
      "source": [
        "x_train_3, x_test_3, y_train_3, y_test_3 = train_test_split(x3, spam_ham_sms['labels'], test_size=0.2, random_state=0)"
      ],
      "execution_count": 31,
      "outputs": []
    },
    {
      "cell_type": "code",
      "metadata": {
        "id": "DhCIVg5BXptJ",
        "outputId": "18be7285-8385-494a-bf75-feded4eea48a",
        "colab": {
          "base_uri": "https://localhost:8080/"
        }
      },
      "source": [
        "naive_bayes_classifer_3 = MultinomialNB()\n",
        "naive_bayes_classifer_3.fit(x_train_3, y_train_3)"
      ],
      "execution_count": 32,
      "outputs": [
        {
          "output_type": "execute_result",
          "data": {
            "text/plain": [
              "MultinomialNB(alpha=1.0, class_prior=None, fit_prior=True)"
            ]
          },
          "metadata": {
            "tags": []
          },
          "execution_count": 32
        }
      ]
    },
    {
      "cell_type": "code",
      "metadata": {
        "id": "RwcRJqgzXptJ"
      },
      "source": [
        "y_pred3 = naive_bayes_classifer_3.predict(x_test_3)"
      ],
      "execution_count": 33,
      "outputs": []
    },
    {
      "cell_type": "code",
      "metadata": {
        "id": "lTOLEmgtXptK",
        "outputId": "4f0c8358-684c-4760-fe1d-9bc0562c607a",
        "colab": {
          "base_uri": "https://localhost:8080/",
          "height": 279
        }
      },
      "source": [
        "plot_confusion_matrix(naive_bayes_classifer_3, x_test_3, y_test_3);"
      ],
      "execution_count": 34,
      "outputs": [
        {
          "output_type": "display_data",
          "data": {
            "image/png": "[encoded data removed]",
            "text/plain": [
              "<Figure size 432x288 with 2 Axes>"
            ]
          },
          "metadata": {
            "tags": [],
            "needs_background": "light"
          }
        }
      ]
    },
    {
      "cell_type": "code",
      "metadata": {
        "id": "MJKZap_FXptK",
        "outputId": "39607c08-4e1f-45fe-cc63-32c73afb2246",
        "colab": {
          "base_uri": "https://localhost:8080/"
        }
      },
      "source": [
        "accuracy_score(y_pred3, y_test_3)"
      ],
      "execution_count": 35,
      "outputs": [
        {
          "output_type": "execute_result",
          "data": {
            "text/plain": [
              "0.9721973094170404"
            ]
          },
          "metadata": {
            "tags": []
          },
          "execution_count": 35
        }
      ]
    },
    {
      "cell_type": "markdown",
      "metadata": {
        "id": "VK8nITyZXptK"
      },
      "source": [
        "### Precsion and recall"
      ]
    },
    {
      "cell_type": "code",
      "metadata": {
        "id": "4nBbaCMlXptL"
      },
      "source": [
        "average_precision_1 = average_precision_score(y_test, y_pred)\n",
        "recall_score_1 = recall_score(y_test, y_pred)\n",
        "average_precision_2 = average_precision_score(y_test_2, y_pred2)\n",
        "recall_score_2 = recall_score(y_test_2, y_pred2)\n",
        "average_precision_3 = average_precision_score(y_test_3, y_pred3)\n",
        "recall_score_3 = recall_score(y_test_3, y_pred3)"
      ],
      "execution_count": null,
      "outputs": []
    },
    {
      "cell_type": "code",
      "metadata": {
        "id": "71eWaEm1XptL"
      },
      "source": [
        "print(average_precision_1);print(recall_score_1);print()\n",
        "print(average_precision_2);print(recall_score_2);print()\n",
        "print(average_precision_3);print(recall_score_3)"
      ],
      "execution_count": null,
      "outputs": []
    },
    {
      "cell_type": "markdown",
      "metadata": {
        "id": "KTIAE2BxXptL"
      },
      "source": [
        "## Finalizing..."
      ]
    },
    {
      "cell_type": "code",
      "metadata": {
        "id": "3Bj7jjJedhor",
        "outputId": "8de5802f-9871-4735-f382-c54f486bd349",
        "colab": {
          "base_uri": "https://localhost:8080/",
          "height": 214
        }
      },
      "source": [
        "# count_vectorizer2.get_feature_names()\r\n",
        "feature_df = pd.DataFrame(x2, columns=count_vectorizer2.get_feature_names())\r\n",
        "feature_df.head(4)"
      ],
      "execution_count": 85,
      "outputs": [
        {
          "output_type": "execute_result",
          "data": {
            "text/html": [
              "<div>\n",
              "<style scoped>\n",
              "    .dataframe tbody tr th:only-of-type {\n",
              "        vertical-align: middle;\n",
              "    }\n",
              "\n",
              "    .dataframe tbody tr th {\n",
              "        vertical-align: top;\n",
              "    }\n",
              "\n",
              "    .dataframe thead th {\n",
              "        text-align: right;\n",
              "    }\n",
              "</style>\n",
              "<table border=\"1\" class=\"dataframe\">\n",
              "  <thead>\n",
              "    <tr style=\"text-align: right;\">\n",
              "      <th></th>\n",
              "      <th>aah</th>\n",
              "      <th>aathi</th>\n",
              "      <th>abi</th>\n",
              "      <th>abiola</th>\n",
              "      <th>able</th>\n",
              "      <th>abt</th>\n",
              "      <th>abta</th>\n",
              "      <th>ac</th>\n",
              "      <th>acc</th>\n",
              "      <th>accept</th>\n",
              "      <th>access</th>\n",
              "      <th>accident</th>\n",
              "      <th>accidentally</th>\n",
              "      <th>accordingly</th>\n",
              "      <th>account</th>\n",
              "      <th>ache</th>\n",
              "      <th>across</th>\n",
              "      <th>action</th>\n",
              "      <th>activate</th>\n",
              "      <th>activity</th>\n",
              "      <th>actually</th>\n",
              "      <th>ad</th>\n",
              "      <th>add</th>\n",
              "      <th>added</th>\n",
              "      <th>addicted</th>\n",
              "      <th>addie</th>\n",
              "      <th>address</th>\n",
              "      <th>admirer</th>\n",
              "      <th>adore</th>\n",
              "      <th>adult</th>\n",
              "      <th>advance</th>\n",
              "      <th>advice</th>\n",
              "      <th>advise</th>\n",
              "      <th>ae</th>\n",
              "      <th>affair</th>\n",
              "      <th>affection</th>\n",
              "      <th>afraid</th>\n",
              "      <th>aft</th>\n",
              "      <th>afternoon</th>\n",
              "      <th>aftr</th>\n",
              "      <th>...</th>\n",
              "      <th>wx</th>\n",
              "      <th>wylie</th>\n",
              "      <th>xavier</th>\n",
              "      <th>xchat</th>\n",
              "      <th>xh</th>\n",
              "      <th>xmas</th>\n",
              "      <th>xuhui</th>\n",
              "      <th>xx</th>\n",
              "      <th>xxx</th>\n",
              "      <th>xxxx</th>\n",
              "      <th>xxxxxxx</th>\n",
              "      <th>xxxxxxxxx</th>\n",
              "      <th>xy</th>\n",
              "      <th>ya</th>\n",
              "      <th>yahoo</th>\n",
              "      <th>yan</th>\n",
              "      <th>yar</th>\n",
              "      <th>yay</th>\n",
              "      <th>yeah</th>\n",
              "      <th>year</th>\n",
              "      <th>yeh</th>\n",
              "      <th>yep</th>\n",
              "      <th>yer</th>\n",
              "      <th>yes</th>\n",
              "      <th>yest</th>\n",
              "      <th>yesterday</th>\n",
              "      <th>yet</th>\n",
              "      <th>yetunde</th>\n",
              "      <th>yijue</th>\n",
              "      <th>ym</th>\n",
              "      <th>yo</th>\n",
              "      <th>yoga</th>\n",
              "      <th>yogasana</th>\n",
              "      <th>yor</th>\n",
              "      <th>yr</th>\n",
              "      <th>yummy</th>\n",
              "      <th>yun</th>\n",
              "      <th>yuo</th>\n",
              "      <th>yup</th>\n",
              "      <th>zed</th>\n",
              "    </tr>\n",
              "  </thead>\n",
              "  <tbody>\n",
              "    <tr>\n",
              "      <th>0</th>\n",
              "      <td>0</td>\n",
              "      <td>0</td>\n",
              "      <td>0</td>\n",
              "      <td>0</td>\n",
              "      <td>0</td>\n",
              "      <td>0</td>\n",
              "      <td>0</td>\n",
              "      <td>0</td>\n",
              "      <td>0</td>\n",
              "      <td>0</td>\n",
              "      <td>0</td>\n",
              "      <td>0</td>\n",
              "      <td>0</td>\n",
              "      <td>0</td>\n",
              "      <td>0</td>\n",
              "      <td>0</td>\n",
              "      <td>0</td>\n",
              "      <td>0</td>\n",
              "      <td>0</td>\n",
              "      <td>0</td>\n",
              "      <td>0</td>\n",
              "      <td>0</td>\n",
              "      <td>0</td>\n",
              "      <td>0</td>\n",
              "      <td>0</td>\n",
              "      <td>0</td>\n",
              "      <td>0</td>\n",
              "      <td>0</td>\n",
              "      <td>0</td>\n",
              "      <td>0</td>\n",
              "      <td>0</td>\n",
              "      <td>0</td>\n",
              "      <td>0</td>\n",
              "      <td>0</td>\n",
              "      <td>0</td>\n",
              "      <td>0</td>\n",
              "      <td>0</td>\n",
              "      <td>0</td>\n",
              "      <td>0</td>\n",
              "      <td>0</td>\n",
              "      <td>...</td>\n",
              "      <td>0</td>\n",
              "      <td>0</td>\n",
              "      <td>0</td>\n",
              "      <td>0</td>\n",
              "      <td>0</td>\n",
              "      <td>0</td>\n",
              "      <td>0</td>\n",
              "      <td>0</td>\n",
              "      <td>0</td>\n",
              "      <td>0</td>\n",
              "      <td>0</td>\n",
              "      <td>0</td>\n",
              "      <td>0</td>\n",
              "      <td>0</td>\n",
              "      <td>0</td>\n",
              "      <td>0</td>\n",
              "      <td>0</td>\n",
              "      <td>0</td>\n",
              "      <td>0</td>\n",
              "      <td>0</td>\n",
              "      <td>0</td>\n",
              "      <td>0</td>\n",
              "      <td>0</td>\n",
              "      <td>0</td>\n",
              "      <td>0</td>\n",
              "      <td>0</td>\n",
              "      <td>0</td>\n",
              "      <td>0</td>\n",
              "      <td>0</td>\n",
              "      <td>0</td>\n",
              "      <td>0</td>\n",
              "      <td>0</td>\n",
              "      <td>0</td>\n",
              "      <td>0</td>\n",
              "      <td>0</td>\n",
              "      <td>0</td>\n",
              "      <td>0</td>\n",
              "      <td>0</td>\n",
              "      <td>0</td>\n",
              "      <td>0</td>\n",
              "    </tr>\n",
              "    <tr>\n",
              "      <th>1</th>\n",
              "      <td>0</td>\n",
              "      <td>0</td>\n",
              "      <td>0</td>\n",
              "      <td>0</td>\n",
              "      <td>0</td>\n",
              "      <td>0</td>\n",
              "      <td>0</td>\n",
              "      <td>0</td>\n",
              "      <td>0</td>\n",
              "      <td>0</td>\n",
              "      <td>0</td>\n",
              "      <td>0</td>\n",
              "      <td>0</td>\n",
              "      <td>0</td>\n",
              "      <td>0</td>\n",
              "      <td>0</td>\n",
              "      <td>0</td>\n",
              "      <td>0</td>\n",
              "      <td>0</td>\n",
              "      <td>0</td>\n",
              "      <td>0</td>\n",
              "      <td>0</td>\n",
              "      <td>0</td>\n",
              "      <td>0</td>\n",
              "      <td>0</td>\n",
              "      <td>0</td>\n",
              "      <td>0</td>\n",
              "      <td>0</td>\n",
              "      <td>0</td>\n",
              "      <td>0</td>\n",
              "      <td>0</td>\n",
              "      <td>0</td>\n",
              "      <td>0</td>\n",
              "      <td>0</td>\n",
              "      <td>0</td>\n",
              "      <td>0</td>\n",
              "      <td>0</td>\n",
              "      <td>0</td>\n",
              "      <td>0</td>\n",
              "      <td>0</td>\n",
              "      <td>...</td>\n",
              "      <td>0</td>\n",
              "      <td>0</td>\n",
              "      <td>0</td>\n",
              "      <td>0</td>\n",
              "      <td>0</td>\n",
              "      <td>0</td>\n",
              "      <td>0</td>\n",
              "      <td>0</td>\n",
              "      <td>0</td>\n",
              "      <td>0</td>\n",
              "      <td>0</td>\n",
              "      <td>0</td>\n",
              "      <td>0</td>\n",
              "      <td>0</td>\n",
              "      <td>0</td>\n",
              "      <td>0</td>\n",
              "      <td>0</td>\n",
              "      <td>0</td>\n",
              "      <td>0</td>\n",
              "      <td>0</td>\n",
              "      <td>0</td>\n",
              "      <td>0</td>\n",
              "      <td>0</td>\n",
              "      <td>0</td>\n",
              "      <td>0</td>\n",
              "      <td>0</td>\n",
              "      <td>0</td>\n",
              "      <td>0</td>\n",
              "      <td>0</td>\n",
              "      <td>0</td>\n",
              "      <td>0</td>\n",
              "      <td>0</td>\n",
              "      <td>0</td>\n",
              "      <td>0</td>\n",
              "      <td>0</td>\n",
              "      <td>0</td>\n",
              "      <td>0</td>\n",
              "      <td>0</td>\n",
              "      <td>0</td>\n",
              "      <td>0</td>\n",
              "    </tr>\n",
              "    <tr>\n",
              "      <th>2</th>\n",
              "      <td>0</td>\n",
              "      <td>0</td>\n",
              "      <td>0</td>\n",
              "      <td>0</td>\n",
              "      <td>0</td>\n",
              "      <td>0</td>\n",
              "      <td>0</td>\n",
              "      <td>0</td>\n",
              "      <td>0</td>\n",
              "      <td>0</td>\n",
              "      <td>0</td>\n",
              "      <td>0</td>\n",
              "      <td>0</td>\n",
              "      <td>0</td>\n",
              "      <td>0</td>\n",
              "      <td>0</td>\n",
              "      <td>0</td>\n",
              "      <td>0</td>\n",
              "      <td>0</td>\n",
              "      <td>0</td>\n",
              "      <td>0</td>\n",
              "      <td>0</td>\n",
              "      <td>0</td>\n",
              "      <td>0</td>\n",
              "      <td>0</td>\n",
              "      <td>0</td>\n",
              "      <td>0</td>\n",
              "      <td>0</td>\n",
              "      <td>0</td>\n",
              "      <td>0</td>\n",
              "      <td>0</td>\n",
              "      <td>0</td>\n",
              "      <td>0</td>\n",
              "      <td>0</td>\n",
              "      <td>0</td>\n",
              "      <td>0</td>\n",
              "      <td>0</td>\n",
              "      <td>0</td>\n",
              "      <td>0</td>\n",
              "      <td>0</td>\n",
              "      <td>...</td>\n",
              "      <td>0</td>\n",
              "      <td>0</td>\n",
              "      <td>0</td>\n",
              "      <td>0</td>\n",
              "      <td>0</td>\n",
              "      <td>0</td>\n",
              "      <td>0</td>\n",
              "      <td>0</td>\n",
              "      <td>0</td>\n",
              "      <td>0</td>\n",
              "      <td>0</td>\n",
              "      <td>0</td>\n",
              "      <td>0</td>\n",
              "      <td>0</td>\n",
              "      <td>0</td>\n",
              "      <td>0</td>\n",
              "      <td>0</td>\n",
              "      <td>0</td>\n",
              "      <td>0</td>\n",
              "      <td>0</td>\n",
              "      <td>0</td>\n",
              "      <td>0</td>\n",
              "      <td>0</td>\n",
              "      <td>0</td>\n",
              "      <td>0</td>\n",
              "      <td>0</td>\n",
              "      <td>0</td>\n",
              "      <td>0</td>\n",
              "      <td>0</td>\n",
              "      <td>0</td>\n",
              "      <td>0</td>\n",
              "      <td>0</td>\n",
              "      <td>0</td>\n",
              "      <td>0</td>\n",
              "      <td>0</td>\n",
              "      <td>0</td>\n",
              "      <td>0</td>\n",
              "      <td>0</td>\n",
              "      <td>0</td>\n",
              "      <td>0</td>\n",
              "    </tr>\n",
              "    <tr>\n",
              "      <th>3</th>\n",
              "      <td>0</td>\n",
              "      <td>0</td>\n",
              "      <td>0</td>\n",
              "      <td>0</td>\n",
              "      <td>0</td>\n",
              "      <td>0</td>\n",
              "      <td>0</td>\n",
              "      <td>0</td>\n",
              "      <td>0</td>\n",
              "      <td>0</td>\n",
              "      <td>0</td>\n",
              "      <td>0</td>\n",
              "      <td>0</td>\n",
              "      <td>0</td>\n",
              "      <td>0</td>\n",
              "      <td>0</td>\n",
              "      <td>0</td>\n",
              "      <td>0</td>\n",
              "      <td>0</td>\n",
              "      <td>0</td>\n",
              "      <td>0</td>\n",
              "      <td>0</td>\n",
              "      <td>0</td>\n",
              "      <td>0</td>\n",
              "      <td>0</td>\n",
              "      <td>0</td>\n",
              "      <td>0</td>\n",
              "      <td>0</td>\n",
              "      <td>0</td>\n",
              "      <td>0</td>\n",
              "      <td>0</td>\n",
              "      <td>0</td>\n",
              "      <td>0</td>\n",
              "      <td>0</td>\n",
              "      <td>0</td>\n",
              "      <td>0</td>\n",
              "      <td>0</td>\n",
              "      <td>0</td>\n",
              "      <td>0</td>\n",
              "      <td>0</td>\n",
              "      <td>...</td>\n",
              "      <td>0</td>\n",
              "      <td>0</td>\n",
              "      <td>0</td>\n",
              "      <td>0</td>\n",
              "      <td>0</td>\n",
              "      <td>0</td>\n",
              "      <td>0</td>\n",
              "      <td>0</td>\n",
              "      <td>0</td>\n",
              "      <td>0</td>\n",
              "      <td>0</td>\n",
              "      <td>0</td>\n",
              "      <td>0</td>\n",
              "      <td>0</td>\n",
              "      <td>0</td>\n",
              "      <td>0</td>\n",
              "      <td>0</td>\n",
              "      <td>0</td>\n",
              "      <td>0</td>\n",
              "      <td>0</td>\n",
              "      <td>0</td>\n",
              "      <td>0</td>\n",
              "      <td>0</td>\n",
              "      <td>0</td>\n",
              "      <td>0</td>\n",
              "      <td>0</td>\n",
              "      <td>0</td>\n",
              "      <td>0</td>\n",
              "      <td>0</td>\n",
              "      <td>0</td>\n",
              "      <td>0</td>\n",
              "      <td>0</td>\n",
              "      <td>0</td>\n",
              "      <td>0</td>\n",
              "      <td>0</td>\n",
              "      <td>0</td>\n",
              "      <td>0</td>\n",
              "      <td>0</td>\n",
              "      <td>0</td>\n",
              "      <td>0</td>\n",
              "    </tr>\n",
              "  </tbody>\n",
              "</table>\n",
              "<p>4 rows × 3000 columns</p>\n",
              "</div>"
            ],
            "text/plain": [
              "   aah  aathi  abi  abiola  able  abt  abta  ...  yor  yr  yummy  yun  yuo  yup  zed\n",
              "0    0      0    0       0     0    0     0  ...    0   0      0    0    0    0    0\n",
              "1    0      0    0       0     0    0     0  ...    0   0      0    0    0    0    0\n",
              "2    0      0    0       0     0    0     0  ...    0   0      0    0    0    0    0\n",
              "3    0      0    0       0     0    0     0  ...    0   0      0    0    0    0    0\n",
              "\n",
              "[4 rows x 3000 columns]"
            ]
          },
          "metadata": {
            "tags": []
          },
          "execution_count": 85
        }
      ]
    },
    {
      "cell_type": "code",
      "metadata": {
        "id": "oj0LLX9ldhh6",
        "outputId": "811ff8c6-6773-46b5-b9b6-e28b26fd54f9",
        "colab": {
          "base_uri": "https://localhost:8080/",
          "height": 76
        }
      },
      "source": [
        "spam_ham_sms.head(1)"
      ],
      "execution_count": 86,
      "outputs": [
        {
          "output_type": "execute_result",
          "data": {
            "text/html": [
              "<div>\n",
              "<style scoped>\n",
              "    .dataframe tbody tr th:only-of-type {\n",
              "        vertical-align: middle;\n",
              "    }\n",
              "\n",
              "    .dataframe tbody tr th {\n",
              "        vertical-align: top;\n",
              "    }\n",
              "\n",
              "    .dataframe thead th {\n",
              "        text-align: right;\n",
              "    }\n",
              "</style>\n",
              "<table border=\"1\" class=\"dataframe\">\n",
              "  <thead>\n",
              "    <tr style=\"text-align: right;\">\n",
              "      <th></th>\n",
              "      <th>labels</th>\n",
              "      <th>messages</th>\n",
              "    </tr>\n",
              "  </thead>\n",
              "  <tbody>\n",
              "    <tr>\n",
              "      <th>0</th>\n",
              "      <td>ham</td>\n",
              "      <td>go jurong point crazy available bugis n great ...</td>\n",
              "    </tr>\n",
              "  </tbody>\n",
              "</table>\n",
              "</div>"
            ],
            "text/plain": [
              "  labels                                           messages\n",
              "0    ham  go jurong point crazy available bugis n great ..."
            ]
          },
          "metadata": {
            "tags": []
          },
          "execution_count": 86
        }
      ]
    },
    {
      "cell_type": "code",
      "metadata": {
        "id": "d6RMPG1ygiiQ"
      },
      "source": [
        "feature_df['labels'] = spam_ham_sms['labels']"
      ],
      "execution_count": 91,
      "outputs": []
    },
    {
      "cell_type": "code",
      "metadata": {
        "id": "ADgTyzEjgo2F",
        "outputId": "dfd48086-4421-4214-9cc9-c7393a020aac",
        "colab": {
          "base_uri": "https://localhost:8080/",
          "height": 184
        }
      },
      "source": [
        "feature_df.head(3)"
      ],
      "execution_count": 92,
      "outputs": [
        {
          "output_type": "execute_result",
          "data": {
            "text/html": [
              "<div>\n",
              "<style scoped>\n",
              "    .dataframe tbody tr th:only-of-type {\n",
              "        vertical-align: middle;\n",
              "    }\n",
              "\n",
              "    .dataframe tbody tr th {\n",
              "        vertical-align: top;\n",
              "    }\n",
              "\n",
              "    .dataframe thead th {\n",
              "        text-align: right;\n",
              "    }\n",
              "</style>\n",
              "<table border=\"1\" class=\"dataframe\">\n",
              "  <thead>\n",
              "    <tr style=\"text-align: right;\">\n",
              "      <th></th>\n",
              "      <th>aah</th>\n",
              "      <th>aathi</th>\n",
              "      <th>abi</th>\n",
              "      <th>abiola</th>\n",
              "      <th>able</th>\n",
              "      <th>abt</th>\n",
              "      <th>abta</th>\n",
              "      <th>ac</th>\n",
              "      <th>acc</th>\n",
              "      <th>accept</th>\n",
              "      <th>access</th>\n",
              "      <th>accident</th>\n",
              "      <th>accidentally</th>\n",
              "      <th>accordingly</th>\n",
              "      <th>account</th>\n",
              "      <th>ache</th>\n",
              "      <th>across</th>\n",
              "      <th>action</th>\n",
              "      <th>activate</th>\n",
              "      <th>activity</th>\n",
              "      <th>actually</th>\n",
              "      <th>ad</th>\n",
              "      <th>add</th>\n",
              "      <th>added</th>\n",
              "      <th>addicted</th>\n",
              "      <th>addie</th>\n",
              "      <th>address</th>\n",
              "      <th>admirer</th>\n",
              "      <th>adore</th>\n",
              "      <th>adult</th>\n",
              "      <th>advance</th>\n",
              "      <th>advice</th>\n",
              "      <th>advise</th>\n",
              "      <th>ae</th>\n",
              "      <th>affair</th>\n",
              "      <th>affection</th>\n",
              "      <th>afraid</th>\n",
              "      <th>aft</th>\n",
              "      <th>afternoon</th>\n",
              "      <th>aftr</th>\n",
              "      <th>...</th>\n",
              "      <th>wylie</th>\n",
              "      <th>xavier</th>\n",
              "      <th>xchat</th>\n",
              "      <th>xh</th>\n",
              "      <th>xmas</th>\n",
              "      <th>xuhui</th>\n",
              "      <th>xx</th>\n",
              "      <th>xxx</th>\n",
              "      <th>xxxx</th>\n",
              "      <th>xxxxxxx</th>\n",
              "      <th>xxxxxxxxx</th>\n",
              "      <th>xy</th>\n",
              "      <th>ya</th>\n",
              "      <th>yahoo</th>\n",
              "      <th>yan</th>\n",
              "      <th>yar</th>\n",
              "      <th>yay</th>\n",
              "      <th>yeah</th>\n",
              "      <th>year</th>\n",
              "      <th>yeh</th>\n",
              "      <th>yep</th>\n",
              "      <th>yer</th>\n",
              "      <th>yes</th>\n",
              "      <th>yest</th>\n",
              "      <th>yesterday</th>\n",
              "      <th>yet</th>\n",
              "      <th>yetunde</th>\n",
              "      <th>yijue</th>\n",
              "      <th>ym</th>\n",
              "      <th>yo</th>\n",
              "      <th>yoga</th>\n",
              "      <th>yogasana</th>\n",
              "      <th>yor</th>\n",
              "      <th>yr</th>\n",
              "      <th>yummy</th>\n",
              "      <th>yun</th>\n",
              "      <th>yuo</th>\n",
              "      <th>yup</th>\n",
              "      <th>zed</th>\n",
              "      <th>labels</th>\n",
              "    </tr>\n",
              "  </thead>\n",
              "  <tbody>\n",
              "    <tr>\n",
              "      <th>0</th>\n",
              "      <td>0</td>\n",
              "      <td>0</td>\n",
              "      <td>0</td>\n",
              "      <td>0</td>\n",
              "      <td>0</td>\n",
              "      <td>0</td>\n",
              "      <td>0</td>\n",
              "      <td>0</td>\n",
              "      <td>0</td>\n",
              "      <td>0</td>\n",
              "      <td>0</td>\n",
              "      <td>0</td>\n",
              "      <td>0</td>\n",
              "      <td>0</td>\n",
              "      <td>0</td>\n",
              "      <td>0</td>\n",
              "      <td>0</td>\n",
              "      <td>0</td>\n",
              "      <td>0</td>\n",
              "      <td>0</td>\n",
              "      <td>0</td>\n",
              "      <td>0</td>\n",
              "      <td>0</td>\n",
              "      <td>0</td>\n",
              "      <td>0</td>\n",
              "      <td>0</td>\n",
              "      <td>0</td>\n",
              "      <td>0</td>\n",
              "      <td>0</td>\n",
              "      <td>0</td>\n",
              "      <td>0</td>\n",
              "      <td>0</td>\n",
              "      <td>0</td>\n",
              "      <td>0</td>\n",
              "      <td>0</td>\n",
              "      <td>0</td>\n",
              "      <td>0</td>\n",
              "      <td>0</td>\n",
              "      <td>0</td>\n",
              "      <td>0</td>\n",
              "      <td>...</td>\n",
              "      <td>0</td>\n",
              "      <td>0</td>\n",
              "      <td>0</td>\n",
              "      <td>0</td>\n",
              "      <td>0</td>\n",
              "      <td>0</td>\n",
              "      <td>0</td>\n",
              "      <td>0</td>\n",
              "      <td>0</td>\n",
              "      <td>0</td>\n",
              "      <td>0</td>\n",
              "      <td>0</td>\n",
              "      <td>0</td>\n",
              "      <td>0</td>\n",
              "      <td>0</td>\n",
              "      <td>0</td>\n",
              "      <td>0</td>\n",
              "      <td>0</td>\n",
              "      <td>0</td>\n",
              "      <td>0</td>\n",
              "      <td>0</td>\n",
              "      <td>0</td>\n",
              "      <td>0</td>\n",
              "      <td>0</td>\n",
              "      <td>0</td>\n",
              "      <td>0</td>\n",
              "      <td>0</td>\n",
              "      <td>0</td>\n",
              "      <td>0</td>\n",
              "      <td>0</td>\n",
              "      <td>0</td>\n",
              "      <td>0</td>\n",
              "      <td>0</td>\n",
              "      <td>0</td>\n",
              "      <td>0</td>\n",
              "      <td>0</td>\n",
              "      <td>0</td>\n",
              "      <td>0</td>\n",
              "      <td>0</td>\n",
              "      <td>ham</td>\n",
              "    </tr>\n",
              "    <tr>\n",
              "      <th>1</th>\n",
              "      <td>0</td>\n",
              "      <td>0</td>\n",
              "      <td>0</td>\n",
              "      <td>0</td>\n",
              "      <td>0</td>\n",
              "      <td>0</td>\n",
              "      <td>0</td>\n",
              "      <td>0</td>\n",
              "      <td>0</td>\n",
              "      <td>0</td>\n",
              "      <td>0</td>\n",
              "      <td>0</td>\n",
              "      <td>0</td>\n",
              "      <td>0</td>\n",
              "      <td>0</td>\n",
              "      <td>0</td>\n",
              "      <td>0</td>\n",
              "      <td>0</td>\n",
              "      <td>0</td>\n",
              "      <td>0</td>\n",
              "      <td>0</td>\n",
              "      <td>0</td>\n",
              "      <td>0</td>\n",
              "      <td>0</td>\n",
              "      <td>0</td>\n",
              "      <td>0</td>\n",
              "      <td>0</td>\n",
              "      <td>0</td>\n",
              "      <td>0</td>\n",
              "      <td>0</td>\n",
              "      <td>0</td>\n",
              "      <td>0</td>\n",
              "      <td>0</td>\n",
              "      <td>0</td>\n",
              "      <td>0</td>\n",
              "      <td>0</td>\n",
              "      <td>0</td>\n",
              "      <td>0</td>\n",
              "      <td>0</td>\n",
              "      <td>0</td>\n",
              "      <td>...</td>\n",
              "      <td>0</td>\n",
              "      <td>0</td>\n",
              "      <td>0</td>\n",
              "      <td>0</td>\n",
              "      <td>0</td>\n",
              "      <td>0</td>\n",
              "      <td>0</td>\n",
              "      <td>0</td>\n",
              "      <td>0</td>\n",
              "      <td>0</td>\n",
              "      <td>0</td>\n",
              "      <td>0</td>\n",
              "      <td>0</td>\n",
              "      <td>0</td>\n",
              "      <td>0</td>\n",
              "      <td>0</td>\n",
              "      <td>0</td>\n",
              "      <td>0</td>\n",
              "      <td>0</td>\n",
              "      <td>0</td>\n",
              "      <td>0</td>\n",
              "      <td>0</td>\n",
              "      <td>0</td>\n",
              "      <td>0</td>\n",
              "      <td>0</td>\n",
              "      <td>0</td>\n",
              "      <td>0</td>\n",
              "      <td>0</td>\n",
              "      <td>0</td>\n",
              "      <td>0</td>\n",
              "      <td>0</td>\n",
              "      <td>0</td>\n",
              "      <td>0</td>\n",
              "      <td>0</td>\n",
              "      <td>0</td>\n",
              "      <td>0</td>\n",
              "      <td>0</td>\n",
              "      <td>0</td>\n",
              "      <td>0</td>\n",
              "      <td>ham</td>\n",
              "    </tr>\n",
              "    <tr>\n",
              "      <th>2</th>\n",
              "      <td>0</td>\n",
              "      <td>0</td>\n",
              "      <td>0</td>\n",
              "      <td>0</td>\n",
              "      <td>0</td>\n",
              "      <td>0</td>\n",
              "      <td>0</td>\n",
              "      <td>0</td>\n",
              "      <td>0</td>\n",
              "      <td>0</td>\n",
              "      <td>0</td>\n",
              "      <td>0</td>\n",
              "      <td>0</td>\n",
              "      <td>0</td>\n",
              "      <td>0</td>\n",
              "      <td>0</td>\n",
              "      <td>0</td>\n",
              "      <td>0</td>\n",
              "      <td>0</td>\n",
              "      <td>0</td>\n",
              "      <td>0</td>\n",
              "      <td>0</td>\n",
              "      <td>0</td>\n",
              "      <td>0</td>\n",
              "      <td>0</td>\n",
              "      <td>0</td>\n",
              "      <td>0</td>\n",
              "      <td>0</td>\n",
              "      <td>0</td>\n",
              "      <td>0</td>\n",
              "      <td>0</td>\n",
              "      <td>0</td>\n",
              "      <td>0</td>\n",
              "      <td>0</td>\n",
              "      <td>0</td>\n",
              "      <td>0</td>\n",
              "      <td>0</td>\n",
              "      <td>0</td>\n",
              "      <td>0</td>\n",
              "      <td>0</td>\n",
              "      <td>...</td>\n",
              "      <td>0</td>\n",
              "      <td>0</td>\n",
              "      <td>0</td>\n",
              "      <td>0</td>\n",
              "      <td>0</td>\n",
              "      <td>0</td>\n",
              "      <td>0</td>\n",
              "      <td>0</td>\n",
              "      <td>0</td>\n",
              "      <td>0</td>\n",
              "      <td>0</td>\n",
              "      <td>0</td>\n",
              "      <td>0</td>\n",
              "      <td>0</td>\n",
              "      <td>0</td>\n",
              "      <td>0</td>\n",
              "      <td>0</td>\n",
              "      <td>0</td>\n",
              "      <td>0</td>\n",
              "      <td>0</td>\n",
              "      <td>0</td>\n",
              "      <td>0</td>\n",
              "      <td>0</td>\n",
              "      <td>0</td>\n",
              "      <td>0</td>\n",
              "      <td>0</td>\n",
              "      <td>0</td>\n",
              "      <td>0</td>\n",
              "      <td>0</td>\n",
              "      <td>0</td>\n",
              "      <td>0</td>\n",
              "      <td>0</td>\n",
              "      <td>0</td>\n",
              "      <td>0</td>\n",
              "      <td>0</td>\n",
              "      <td>0</td>\n",
              "      <td>0</td>\n",
              "      <td>0</td>\n",
              "      <td>0</td>\n",
              "      <td>spam</td>\n",
              "    </tr>\n",
              "  </tbody>\n",
              "</table>\n",
              "<p>3 rows × 3001 columns</p>\n",
              "</div>"
            ],
            "text/plain": [
              "   aah  aathi  abi  abiola  able  abt  ...  yummy  yun  yuo  yup  zed  labels\n",
              "0    0      0    0       0     0    0  ...      0    0    0    0    0     ham\n",
              "1    0      0    0       0     0    0  ...      0    0    0    0    0     ham\n",
              "2    0      0    0       0     0    0  ...      0    0    0    0    0    spam\n",
              "\n",
              "[3 rows x 3001 columns]"
            ]
          },
          "metadata": {
            "tags": []
          },
          "execution_count": 92
        }
      ]
    },
    {
      "cell_type": "code",
      "metadata": {
        "id": "PSfT4BGFhCAU",
        "outputId": "d2d51da0-fe08-4ea5-f1ae-dd22318c4cd3",
        "colab": {
          "base_uri": "https://localhost:8080/"
        }
      },
      "source": [
        "model = MultinomialNB()\r\n",
        "model.fit(feature_df.iloc[:, :-1], feature_df.iloc[:, -1])"
      ],
      "execution_count": 104,
      "outputs": [
        {
          "output_type": "execute_result",
          "data": {
            "text/plain": [
              "MultinomialNB(alpha=1.0, class_prior=None, fit_prior=True)"
            ]
          },
          "metadata": {
            "tags": []
          },
          "execution_count": 104
        }
      ]
    },
    {
      "cell_type": "code",
      "metadata": {
        "id": "ZGNGgsBzXptM"
      },
      "source": [
        "import pickle"
      ],
      "execution_count": null,
      "outputs": []
    },
    {
      "cell_type": "code",
      "metadata": {
        "id": "opZ8U1cRXptM"
      },
      "source": [
        "filename = 'spam_model.model'\n",
        "pickle.dump(naive_bayes_classifer_2, open(filename, 'wb'))"
      ],
      "execution_count": null,
      "outputs": []
    }
  ]
}