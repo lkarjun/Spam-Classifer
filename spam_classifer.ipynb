{
 "metadata": {
  "language_info": {
   "codemirror_mode": {
    "name": "ipython",
    "version": 3
   },
   "file_extension": ".py",
   "mimetype": "text/x-python",
   "name": "python",
   "nbconvert_exporter": "python",
   "pygments_lexer": "ipython3",
   "version": "3.8.5-final"
  },
  "orig_nbformat": 2,
  "kernelspec": {
   "name": "python3",
   "display_name": "Python 3",
   "language": "python"
  }
 },
 "nbformat": 4,
 "nbformat_minor": 2,
 "cells": [
  {
   "source": [
    "# Spam classifer with Natural Language processing and Naive Bayes"
   ],
   "cell_type": "markdown",
   "metadata": {}
  },
  {
   "source": [
    "## Libaries importing"
   ],
   "cell_type": "markdown",
   "metadata": {}
  },
  {
   "cell_type": "code",
   "execution_count": 14,
   "metadata": {},
   "outputs": [],
   "source": [
    "import pandas as pd\n",
    "import numpy as np\n",
    "from sklearn.naive_bayes import MultinomialNB\n",
    "from sklearn.metrics import confusion_matrix, accuracy_score\n",
    "import matplotlib.pyplot as plt\n",
    "\n",
    "from io import BytesIO\n",
    "import requests\n",
    "import tarfile"
   ]
  },
  {
   "source": [
    "## Importing datasets"
   ],
   "cell_type": "markdown",
   "metadata": {}
  },
  {
   "cell_type": "code",
   "execution_count": 12,
   "metadata": {},
   "outputs": [
    {
     "output_type": "execute_result",
     "data": {
      "text/plain": [
       "     labels                                           messages\n",
       "2041    ham        You always make things bigger than they are\n",
       "3287    ham              Not to worry. I'm sure you'll get it.\n",
       "2352   spam  Download as many ringtones as u like no restri..."
      ],
      "text/html": "<div>\n<style scoped>\n    .dataframe tbody tr th:only-of-type {\n        vertical-align: middle;\n    }\n\n    .dataframe tbody tr th {\n        vertical-align: top;\n    }\n\n    .dataframe thead th {\n        text-align: right;\n    }\n</style>\n<table border=\"1\" class=\"dataframe\">\n  <thead>\n    <tr style=\"text-align: right;\">\n      <th></th>\n      <th>labels</th>\n      <th>messages</th>\n    </tr>\n  </thead>\n  <tbody>\n    <tr>\n      <th>2041</th>\n      <td>ham</td>\n      <td>You always make things bigger than they are</td>\n    </tr>\n    <tr>\n      <th>3287</th>\n      <td>ham</td>\n      <td>Not to worry. I'm sure you'll get it.</td>\n    </tr>\n    <tr>\n      <th>2352</th>\n      <td>spam</td>\n      <td>Download as many ringtones as u like no restri...</td>\n    </tr>\n  </tbody>\n</table>\n</div>"
     },
     "metadata": {},
     "execution_count": 12
    }
   ],
   "source": [
    "spam_ham_sms = pd.read_csv(\"datasets/sms(ham-spam).csv\").drop(\"Unnamed: 0\", axis=1)\n",
    "spam_ham_sms.sample(3)"
   ]
  },
  {
   "cell_type": "code",
   "execution_count": 24,
   "metadata": {},
   "outputs": [],
   "source": [
    "def extract_spam_data():\n",
    "    Base_url = \"https://spamassassin.apache.org/old/publiccorpus\"\n",
    "\n",
    "    files = [\"20021010_easy_ham.tar.bz2\",\n",
    "             \"20021010_hard_ham.tar.bz2\",            \n",
    "             \"20021010_spam.tar.bz2\"]\n",
    "\n",
    "    Output_dir = \"datasets/emailSpam\"\n",
    "\n",
    "    for filename in files:\n",
    "        content = requests.get(f\"{Base_url}/{filename}\").content\n",
    "        fin = BytesIO(content)\n",
    "\n",
    "        with tarfile.open(fileobj=fin, mode='r:bz2') as tf:\n",
    "            tf.extractall(Output_dir)\n",
    "\n",
    "    return files"
   ]
  },
  {
   "cell_type": "code",
   "execution_count": 25,
   "metadata": {},
   "outputs": [],
   "source": [
    "files = extract_spam_data()"
   ]
  },
  {
   "cell_type": "code",
   "execution_count": null,
   "metadata": {},
   "outputs": [],
   "source": []
  }
 ]
}